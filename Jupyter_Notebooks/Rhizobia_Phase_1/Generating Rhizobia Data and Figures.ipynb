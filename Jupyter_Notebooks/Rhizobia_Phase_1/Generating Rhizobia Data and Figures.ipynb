{
 "cells": [
  {
   "cell_type": "markdown",
   "id": "39b28005",
   "metadata": {},
   "source": [
    "#Generating Rhizobia Phase I Files and Figures#\n",
    "##Generating split barplot of differentially expressed gens##"
   ]
  },
  {
   "cell_type": "code",
   "execution_count": 9,
   "id": "f92acd4e",
   "metadata": {},
   "outputs": [
    {
     "name": "stdout",
     "output_type": "stream",
     "text": [
      "              Comparison   Up Down\n",
      "0  AMp07_491873_HgvsCont  318  258\n",
      "1  AMp07_491873_CdvsCont  183  120\n",
      "0  AMp08_491781_HgvsCont    9    3\n",
      "0  SMp01_491863_HgvsCont   16    3\n",
      "1  SMp01_491863_CdvsCont  704  802\n",
      "0  VMo01_491855_HgvsCont  330  512\n",
      "1  VMo01_491855_CdvsCont  485  680\n",
      "0     Vtc07_436_HgvsCont    0    0\n",
      "1     Vtc07_436_CdvsCont   22    0\n"
     ]
    }
   ],
   "source": [
    "#Import the library containing the functions we will be using\n",
    "#Make sure this file is in your current directory\n",
    "import BioinformaticsLibrary as BL #This can be found in the Python Scripts directory. Make sure the BioinformaticsLibrary.py script is in your working directory\n",
    "import matplotlib.pyplot as plt\n",
    "import pandas as pd\n",
    "\n",
    "#Obtain Rhizobia DEG counts\n",
    "amp07 = BL.count_DEGs(DEG_file='rhizobia_compiled_dge_tpm_ortho.xlsx',\n",
    "                      sheet_name='amp07', \n",
    "                      LFC_suffix='_log2FC', padj_suffix='_padj', \n",
    "                      L2FC_threshold=1, adjP_threshold=0.05)\n",
    "\n",
    "amp08 = BL.count_DEGs(DEG_file='rhizobia_compiled_dge_tpm_ortho.xlsx',\n",
    "                      sheet_name='amp08', \n",
    "                      LFC_suffix='_log2FC', padj_suffix='_padj', \n",
    "                      L2FC_threshold=1, adjP_threshold=0.05)\n",
    "\n",
    "smp01 = BL.count_DEGs(DEG_file='rhizobia_compiled_dge_tpm_ortho.xlsx',\n",
    "                      sheet_name='smp01', \n",
    "                      LFC_suffix='_log2FC', padj_suffix='_padj', \n",
    "                      L2FC_threshold=1, adjP_threshold=0.05)\n",
    "\n",
    "vmo01 = BL.count_DEGs(DEG_file='rhizobia_compiled_dge_tpm_ortho.xlsx',\n",
    "                      sheet_name='vmo01', \n",
    "                      LFC_suffix='_log2FC', padj_suffix='_padj', \n",
    "                      L2FC_threshold=1, adjP_threshold=0.05)\n",
    "\n",
    "vtc07 = BL.count_DEGs(DEG_file='rhizobia_compiled_dge_tpm_ortho.xlsx',\n",
    "                      sheet_name='vtc07', \n",
    "                      LFC_suffix='_log2FC', padj_suffix='_padj', \n",
    "                      L2FC_threshold=1, adjP_threshold=0.05)\n",
    "\n",
    "#Concatenate all dataframes into a single dataframe\n",
    "full_rhizo = pd.concat([amp07, amp08, smp01, vmo01, vtc07], axis=0)\n",
    "\n",
    "#Show concatenated table\n",
    "print(full_rhizo)\n",
    "\n",
    "#Expoort concatenated table\n",
    "full_rhizo.to_csv('Compiled_Rhizo_DEGs.csv', index=False)\n"
   ]
  },
  {
   "cell_type": "markdown",
   "id": "d7ce6b9e",
   "metadata": {},
   "source": [
    "- Notice that comparsion names have extra information and are difficult to interpret\n",
    "- We will manually change the names in the exported .csv file as this is easier than changing them in python"
   ]
  },
  {
   "cell_type": "code",
   "execution_count": 10,
   "id": "aadf6132",
   "metadata": {},
   "outputs": [],
   "source": [
    "#Import the compiled DEG file with updated comparison names\n",
    "new_full = pd.read_csv('Compiled_Rhizo_DEGs_newNames.csv')"
   ]
  },
  {
   "cell_type": "markdown",
   "id": "e7d11c49",
   "metadata": {},
   "source": [
    "- We would like to sort the barplot by total DEGs\n",
    "- In order to do this we will sum the up and downregulated genes"
   ]
  },
  {
   "cell_type": "code",
   "execution_count": 13,
   "id": "0abf7c7d",
   "metadata": {},
   "outputs": [
    {
     "data": {
      "image/png": "[encoded data removed]",
      "text/plain": [
       "<Figure size 432x288 with 1 Axes>"
      ]
     },
     "metadata": {
      "needs_background": "light"
     },
     "output_type": "display_data"
    }
   ],
   "source": [
    "#Create a total column that is the sum of up and down regulated genes\n",
    "new_full['Total'] = new_full['Up'] + new_full['Down']\n",
    "\n",
    "#sort by increasing total DEGs\n",
    "new_full = new_full.sort_values(['Total'])\n",
    "\n",
    "#Drop total column so it isn't used in the barplot\n",
    "new_full = new_full.drop(columns=['Total'])\n",
    "\n",
    "#Plot DEGs\n",
    "fig = new_full.set_index('Comparison').plot(kind='bar', stacked=True, color=['red', 'steelblue'], width=0.8)\n",
    "plt.xlabel('Treatment')\n",
    "plt.ylabel('Total DEGs')\n",
    "plt.tick_params(axis='both', which='major', labelsize=8)\n",
    "plt.savefig('Rhizobia_stacked_split_DEG_by_total.pdf', bbox_inches='tight')\n"
   ]
  }
 ],
 "metadata": {
  "kernelspec": {
   "display_name": "Python [conda env:jupyter] *",
   "language": "python",
   "name": "conda-env-jupyter-py"
  },
  "language_info": {
   "codemirror_mode": {
    "name": "ipython",
    "version": 3
   },
   "file_extension": ".py",
   "mimetype": "text/x-python",
   "name": "python",
   "nbconvert_exporter": "python",
   "pygments_lexer": "ipython3",
   "version": "3.9.7"
  }
 },
 "nbformat": 4,
 "nbformat_minor": 5
}
